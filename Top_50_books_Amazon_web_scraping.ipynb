{
 "cells": [
  {
   "cell_type": "code",
   "execution_count": 2,
   "id": "6a6dbf2d-408f-4298-85c0-0bbc3e9ffe9e",
   "metadata": {},
   "outputs": [],
   "source": [
    "import pandas as pd\n",
    "import requests\n",
    "from bs4 import BeautifulSoup"
   ]
  },
  {
   "cell_type": "code",
   "execution_count": 4,
   "id": "6f9f9020-7860-4b52-975f-a37fe1bd2ec2",
   "metadata": {},
   "outputs": [
    {
     "data": {
      "text/plain": [
       "<Response [200]>"
      ]
     },
     "execution_count": 4,
     "metadata": {},
     "output_type": "execute_result"
    }
   ],
   "source": [
    "# base url of the best sellers books from amazon\n",
    "base_url = \"https://www.amazon.in/gp/bestsellers/books/ref=zg_bs_nav_books_0\"\n",
    "\n",
    "requests.get(base_url)"
   ]
  },
  {
   "cell_type": "code",
   "execution_count": 6,
   "id": "e3ea096d-1eb3-407d-88f8-6aaa72397fc3",
   "metadata": {},
   "outputs": [],
   "source": [
    "# list to store book data\n",
    "book_list = []\n",
    "    \n",
    "# send a GET request to the url\n",
    "response = requests.get(base_url)\n",
    "     \n",
    "# parse the HTML content using BeautifulSoup\n",
    "soup = BeautifulSoup(response.content, \"lxml\")\n",
    "    \n",
    "# find all the book elements\n",
    "books = soup.find_all(\"div\", {\"class\": \"zg-grid-general-faceout\"})\n",
    "\n",
    "# iterate over each book element to extract data\n",
    "for book in books:\n",
    "    if len(book_list) < 50:\n",
    "        if book.find(\"a\", class_=\"a-size-small a-link-child\"):\n",
    "            author = book.find(\"a\", class_=\"a-size-small a-link-child\").get_text(strip=True)\n",
    "        else : \"N/A\"\n",
    "                \n",
    "        if book.find(\"span\", class_=\"a-icon-alt\"):\n",
    "            rating = book.find(\"span\", class_=\"a-icon-alt\").get_text(strip=True)\n",
    "        else: \"N/A\"\n",
    "                \n",
    "        # append the extracted data to the book_list\n",
    "        book_list.append({\n",
    "            \"Author\": author,\n",
    "            \"Rating\": rating\n",
    "           })\n",
    "    else:\n",
    "        break"
   ]
  },
  {
   "cell_type": "code",
   "execution_count": 8,
   "id": "742788d1-cb61-4d5e-a85f-dbc55c17919c",
   "metadata": {},
   "outputs": [
    {
     "name": "stdout",
     "output_type": "stream",
     "text": [
      "           Author              Rating\n",
      "0     Ravi Mantri  4.8 out of 5 stars\n",
      "1   Morgan Housel  4.6 out of 5 stars\n",
      "2   Morgan Housel  4.3 out of 5 stars\n",
      "3  Shantanu Naidu  4.7 out of 5 stars\n",
      "4    Rhonda Byrne  4.5 out of 5 stars\n"
     ]
    }
   ],
   "source": [
    "# convert the list of dictionaries into a DataFrame\n",
    "df = pd.DataFrame(book_list)\n",
    "\n",
    "print(df.head())\n",
    "\n",
    "# save the DataFrame to a CSV file\n",
    "df.to_csv(\"top_50_books_amazon_author_rating.csv\", index=False)"
   ]
  },
  {
   "cell_type": "code",
   "execution_count": 10,
   "id": "58f22f42-f0ca-48e1-b755-05d154b5c096",
   "metadata": {},
   "outputs": [
    {
     "name": "stdout",
     "output_type": "stream",
     "text": [
      "                     Author              Rating\n",
      "0               Ravi Mantri  4.8 out of 5 stars\n",
      "1             Morgan Housel  4.6 out of 5 stars\n",
      "2             Morgan Housel  4.3 out of 5 stars\n",
      "3            Shantanu Naidu  4.7 out of 5 stars\n",
      "4              Rhonda Byrne  4.5 out of 5 stars\n",
      "5              Nikhil Gupta  4.5 out of 5 stars\n",
      "6        Wonder House Books  4.5 out of 5 stars\n",
      "7            Shaurya Kapoor  3.3 out of 5 stars\n",
      "8  Dr. Manish Raj (MR. Sir)  4.7 out of 5 stars\n",
      "9         Aditya Ranjan Sir  4.3 out of 5 stars\n"
     ]
    }
   ],
   "source": [
    "print(df.head(10))\n"
   ]
  },
  {
   "cell_type": "code",
   "execution_count": null,
   "id": "89aab57b-f6f4-4c30-97bc-e373710d9e3c",
   "metadata": {},
   "outputs": [],
   "source": []
  },
  {
   "cell_type": "code",
   "execution_count": null,
   "id": "d7f44e5b-25ab-43bf-88b8-58565bb52fa4",
   "metadata": {},
   "outputs": [],
   "source": []
  },
  {
   "cell_type": "code",
   "execution_count": null,
   "id": "269d778d-658f-4035-9b80-c0ad02874fb7",
   "metadata": {},
   "outputs": [],
   "source": []
  },
  {
   "cell_type": "code",
   "execution_count": null,
   "id": "7f7897e9-21d5-499e-864c-9a4407f7c821",
   "metadata": {},
   "outputs": [],
   "source": []
  },
  {
   "cell_type": "code",
   "execution_count": null,
   "id": "5811f1fe-b9aa-4ca3-b5f4-9405007f8159",
   "metadata": {},
   "outputs": [],
   "source": []
  }
 ],
 "metadata": {
  "kernelspec": {
   "display_name": "Python 3 (ipykernel)",
   "language": "python",
   "name": "python3"
  },
  "language_info": {
   "codemirror_mode": {
    "name": "ipython",
    "version": 3
   },
   "file_extension": ".py",
   "mimetype": "text/x-python",
   "name": "python",
   "nbconvert_exporter": "python",
   "pygments_lexer": "ipython3",
   "version": "3.12.4"
  }
 },
 "nbformat": 4,
 "nbformat_minor": 5
}
